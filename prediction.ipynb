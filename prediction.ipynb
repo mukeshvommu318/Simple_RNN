{
 "cells": [
  {
   "cell_type": "code",
   "execution_count": 1,
   "metadata": {},
   "outputs": [],
   "source": [
    "# Step 1: Import Libraries and Load the Model\n",
    "import numpy as np\n",
    "import tensorflow as tf\n",
    "from tensorflow.keras.datasets import imdb\n",
    "from tensorflow.keras.preprocessing import sequence\n",
    "from tensorflow.keras.models import load_model"
   ]
  },
  {
   "cell_type": "code",
   "execution_count": 2,
   "metadata": {},
   "outputs": [],
   "source": [
    "# Load the IMDB dataset word index\n",
    "word_index = imdb.get_word_index()\n",
    "reverse_word_index = {value: key for key, value in word_index.items()}"
   ]
  },
  {
   "cell_type": "code",
   "execution_count": 3,
   "metadata": {},
   "outputs": [
    {
     "name": "stderr",
     "output_type": "stream",
     "text": [
      "WARNING:absl:Compiled the loaded model, but the compiled metrics have yet to be built. `model.compile_metrics` will be empty until you train or evaluate the model.\n"
     ]
    },
    {
     "data": {
      "text/html": [
       "<pre style=\"white-space:pre;overflow-x:auto;line-height:normal;font-family:Menlo,'DejaVu Sans Mono',consolas,'Courier New',monospace\"><span style=\"font-weight: bold\">Model: \"sequential_1\"</span>\n",
       "</pre>\n"
      ],
      "text/plain": [
       "\u001b[1mModel: \"sequential_1\"\u001b[0m\n"
      ]
     },
     "metadata": {},
     "output_type": "display_data"
    },
    {
     "data": {
      "text/html": [
       "<pre style=\"white-space:pre;overflow-x:auto;line-height:normal;font-family:Menlo,'DejaVu Sans Mono',consolas,'Courier New',monospace\">┏━━━━━━━━━━━━━━━━━━━━━━━━━━━━━━━━━┳━━━━━━━━━━━━━━━━━━━━━━━━┳━━━━━━━━━━━━━━━┓\n",
       "┃<span style=\"font-weight: bold\"> Layer (type)                    </span>┃<span style=\"font-weight: bold\"> Output Shape           </span>┃<span style=\"font-weight: bold\">       Param # </span>┃\n",
       "┡━━━━━━━━━━━━━━━━━━━━━━━━━━━━━━━━━╇━━━━━━━━━━━━━━━━━━━━━━━━╇━━━━━━━━━━━━━━━┩\n",
       "│ embedding_1 (<span style=\"color: #0087ff; text-decoration-color: #0087ff\">Embedding</span>)         │ (<span style=\"color: #00d7ff; text-decoration-color: #00d7ff\">None</span>, <span style=\"color: #00af00; text-decoration-color: #00af00\">500</span>, <span style=\"color: #00af00; text-decoration-color: #00af00\">128</span>)       │     <span style=\"color: #00af00; text-decoration-color: #00af00\">1,280,000</span> │\n",
       "├─────────────────────────────────┼────────────────────────┼───────────────┤\n",
       "│ simple_rnn_1 (<span style=\"color: #0087ff; text-decoration-color: #0087ff\">SimpleRNN</span>)        │ (<span style=\"color: #00d7ff; text-decoration-color: #00d7ff\">None</span>, <span style=\"color: #00af00; text-decoration-color: #00af00\">128</span>)            │        <span style=\"color: #00af00; text-decoration-color: #00af00\">32,896</span> │\n",
       "├─────────────────────────────────┼────────────────────────┼───────────────┤\n",
       "│ dense_1 (<span style=\"color: #0087ff; text-decoration-color: #0087ff\">Dense</span>)                 │ (<span style=\"color: #00d7ff; text-decoration-color: #00d7ff\">None</span>, <span style=\"color: #00af00; text-decoration-color: #00af00\">1</span>)              │           <span style=\"color: #00af00; text-decoration-color: #00af00\">129</span> │\n",
       "└─────────────────────────────────┴────────────────────────┴───────────────┘\n",
       "</pre>\n"
      ],
      "text/plain": [
       "┏━━━━━━━━━━━━━━━━━━━━━━━━━━━━━━━━━┳━━━━━━━━━━━━━━━━━━━━━━━━┳━━━━━━━━━━━━━━━┓\n",
       "┃\u001b[1m \u001b[0m\u001b[1mLayer (type)                   \u001b[0m\u001b[1m \u001b[0m┃\u001b[1m \u001b[0m\u001b[1mOutput Shape          \u001b[0m\u001b[1m \u001b[0m┃\u001b[1m \u001b[0m\u001b[1m      Param #\u001b[0m\u001b[1m \u001b[0m┃\n",
       "┡━━━━━━━━━━━━━━━━━━━━━━━━━━━━━━━━━╇━━━━━━━━━━━━━━━━━━━━━━━━╇━━━━━━━━━━━━━━━┩\n",
       "│ embedding_1 (\u001b[38;5;33mEmbedding\u001b[0m)         │ (\u001b[38;5;45mNone\u001b[0m, \u001b[38;5;34m500\u001b[0m, \u001b[38;5;34m128\u001b[0m)       │     \u001b[38;5;34m1,280,000\u001b[0m │\n",
       "├─────────────────────────────────┼────────────────────────┼───────────────┤\n",
       "│ simple_rnn_1 (\u001b[38;5;33mSimpleRNN\u001b[0m)        │ (\u001b[38;5;45mNone\u001b[0m, \u001b[38;5;34m128\u001b[0m)            │        \u001b[38;5;34m32,896\u001b[0m │\n",
       "├─────────────────────────────────┼────────────────────────┼───────────────┤\n",
       "│ dense_1 (\u001b[38;5;33mDense\u001b[0m)                 │ (\u001b[38;5;45mNone\u001b[0m, \u001b[38;5;34m1\u001b[0m)              │           \u001b[38;5;34m129\u001b[0m │\n",
       "└─────────────────────────────────┴────────────────────────┴───────────────┘\n"
      ]
     },
     "metadata": {},
     "output_type": "display_data"
    },
    {
     "data": {
      "text/html": [
       "<pre style=\"white-space:pre;overflow-x:auto;line-height:normal;font-family:Menlo,'DejaVu Sans Mono',consolas,'Courier New',monospace\"><span style=\"font-weight: bold\"> Total params: </span><span style=\"color: #00af00; text-decoration-color: #00af00\">1,313,027</span> (5.01 MB)\n",
       "</pre>\n"
      ],
      "text/plain": [
       "\u001b[1m Total params: \u001b[0m\u001b[38;5;34m1,313,027\u001b[0m (5.01 MB)\n"
      ]
     },
     "metadata": {},
     "output_type": "display_data"
    },
    {
     "data": {
      "text/html": [
       "<pre style=\"white-space:pre;overflow-x:auto;line-height:normal;font-family:Menlo,'DejaVu Sans Mono',consolas,'Courier New',monospace\"><span style=\"font-weight: bold\"> Trainable params: </span><span style=\"color: #00af00; text-decoration-color: #00af00\">1,313,025</span> (5.01 MB)\n",
       "</pre>\n"
      ],
      "text/plain": [
       "\u001b[1m Trainable params: \u001b[0m\u001b[38;5;34m1,313,025\u001b[0m (5.01 MB)\n"
      ]
     },
     "metadata": {},
     "output_type": "display_data"
    },
    {
     "data": {
      "text/html": [
       "<pre style=\"white-space:pre;overflow-x:auto;line-height:normal;font-family:Menlo,'DejaVu Sans Mono',consolas,'Courier New',monospace\"><span style=\"font-weight: bold\"> Non-trainable params: </span><span style=\"color: #00af00; text-decoration-color: #00af00\">0</span> (0.00 B)\n",
       "</pre>\n"
      ],
      "text/plain": [
       "\u001b[1m Non-trainable params: \u001b[0m\u001b[38;5;34m0\u001b[0m (0.00 B)\n"
      ]
     },
     "metadata": {},
     "output_type": "display_data"
    },
    {
     "data": {
      "text/html": [
       "<pre style=\"white-space:pre;overflow-x:auto;line-height:normal;font-family:Menlo,'DejaVu Sans Mono',consolas,'Courier New',monospace\"><span style=\"font-weight: bold\"> Optimizer params: </span><span style=\"color: #00af00; text-decoration-color: #00af00\">2</span> (12.00 B)\n",
       "</pre>\n"
      ],
      "text/plain": [
       "\u001b[1m Optimizer params: \u001b[0m\u001b[38;5;34m2\u001b[0m (12.00 B)\n"
      ]
     },
     "metadata": {},
     "output_type": "display_data"
    }
   ],
   "source": [
    "# Load the pre-trained model with ReLU activation\n",
    "model = load_model('simple_rnn_imdb.h5')\n",
    "model.summary()"
   ]
  },
  {
   "cell_type": "code",
   "execution_count": 4,
   "metadata": {},
   "outputs": [
    {
     "data": {
      "text/plain": [
       "[array([[-0.68103284,  0.2811157 ,  0.72255015, ...,  0.6312564 ,\n",
       "          0.22001769, -0.70951366],\n",
       "        [-0.07292625, -0.00524713,  0.00946859, ..., -0.05075517,\n",
       "          0.10788731, -0.0028429 ],\n",
       "        [-0.12593617,  0.02508779,  0.0239193 , ..., -0.01081265,\n",
       "          0.07545266, -0.05641514],\n",
       "        ...,\n",
       "        [ 0.00902552,  0.06396152,  0.1147935 , ..., -0.09060354,\n",
       "         -0.12062977, -0.02898517],\n",
       "        [ 0.05113685,  0.08154098, -0.09590418, ...,  0.06490915,\n",
       "          0.05070393, -0.01264874],\n",
       "        [-0.00748771,  0.05787027,  0.08473365, ..., -0.07230166,\n",
       "         -0.10157853, -0.08575383]], dtype=float32),\n",
       " array([[ 0.06354177, -0.0988916 ,  0.0530949 , ..., -0.07069169,\n",
       "          0.06643179,  0.10319982],\n",
       "        [ 0.13882132, -0.04211117,  0.1996418 , ..., -0.02882726,\n",
       "         -0.04970325,  0.04689371],\n",
       "        [ 0.11851756, -0.04957493,  0.00371583, ..., -0.11918347,\n",
       "         -0.0904666 ,  0.01260217],\n",
       "        ...,\n",
       "        [-0.03315294, -0.08085586, -0.06410495, ...,  0.03781117,\n",
       "         -0.00111635,  0.08701681],\n",
       "        [ 0.12623128,  0.01686343,  0.0586592 , ...,  0.07741763,\n",
       "         -0.15543927,  0.07741675],\n",
       "        [ 0.05320606,  0.12480497, -0.06498791, ...,  0.01506449,\n",
       "         -0.16419494,  0.10970186]], dtype=float32),\n",
       " array([[-0.09492918, -0.0522217 ,  0.0448705 , ...,  0.01225487,\n",
       "         -0.07991929, -0.0310856 ],\n",
       "        [ 0.14863384, -0.01542202, -0.08044497, ..., -0.13281393,\n",
       "         -0.03942304, -0.07584383],\n",
       "        [-0.13842656, -0.06840988,  0.23240432, ...,  0.02294878,\n",
       "         -0.03763611,  0.00398747],\n",
       "        ...,\n",
       "        [-0.22497463, -0.01048338, -0.011982  , ..., -0.00132868,\n",
       "         -0.02381679,  0.09035761],\n",
       "        [-0.01931863,  0.04176571, -0.00630987, ...,  0.08643398,\n",
       "         -0.08126488, -0.0899673 ],\n",
       "        [-0.12337755, -0.15009238,  0.0944991 , ..., -0.00612303,\n",
       "         -0.15747681,  0.05502378]], dtype=float32),\n",
       " array([-0.04581302, -0.00485466, -0.06336405, -0.00181958,  0.00156507,\n",
       "        -0.00270431, -0.03182468,  0.00200497,  0.00395476, -0.0286442 ,\n",
       "        -0.03732764, -0.07197104,  0.05205773, -0.03421086, -0.05279301,\n",
       "        -0.03915884,  0.01345866,  0.04032027,  0.03128841, -0.04237105,\n",
       "        -0.05378461,  0.08116186, -0.00406623,  0.06471401, -0.03605346,\n",
       "        -0.0366372 , -0.02177786, -0.06742986, -0.03026553,  0.00606969,\n",
       "         0.01405548, -0.0257888 ,  0.01489152,  0.10637802, -0.01505558,\n",
       "         0.04373695,  0.03101824, -0.03780822, -0.0439996 , -0.00793695,\n",
       "        -0.03160458, -0.00233447,  0.02245791,  0.02562586, -0.0081466 ,\n",
       "         0.01034886,  0.04489131,  0.0151284 , -0.03895047, -0.01607196,\n",
       "        -0.00432874, -0.0147283 , -0.03039463, -0.0211287 , -0.0657191 ,\n",
       "         0.00775   , -0.04657499,  0.01237929,  0.01417577, -0.03935786,\n",
       "        -0.08408009,  0.06058552, -0.04136318, -0.06946485, -0.00102632,\n",
       "        -0.00947755,  0.04275468,  0.00936321, -0.01804707,  0.00560359,\n",
       "        -0.01655138, -0.02562466, -0.00182427,  0.17679712, -0.03437628,\n",
       "        -0.04256672, -0.03018091,  0.0037311 ,  0.00285174,  0.02179744,\n",
       "        -0.0298182 , -0.03835975, -0.06748255, -0.03703405, -0.02901726,\n",
       "         0.0125129 ,  0.06865313, -0.04125141, -0.05324819, -0.03640546,\n",
       "        -0.02542452,  0.00781795, -0.04781746, -0.01111833, -0.00278665,\n",
       "        -0.00424509, -0.01956325,  0.06831077, -0.019585  ,  0.02239799,\n",
       "         0.00119074, -0.04928919,  0.01357074, -0.01496015,  0.00081771,\n",
       "        -0.04987612, -0.04702816,  0.00548191, -0.0046667 , -0.04285062,\n",
       "         0.0380495 , -0.05189505, -0.00548486, -0.0359441 , -0.0123009 ,\n",
       "        -0.02465803,  0.00417232, -0.06903771,  0.02560615,  0.03206462,\n",
       "        -0.06413248, -0.02814993, -0.02491639, -0.04903307,  0.00879132,\n",
       "        -0.01043365, -0.00674664, -0.01302382], dtype=float32),\n",
       " array([[ 0.20450608],\n",
       "        [-0.08355924],\n",
       "        [ 0.25592345],\n",
       "        [ 0.12733653],\n",
       "        [-0.00332699],\n",
       "        [-0.13383421],\n",
       "        [-0.21320634],\n",
       "        [ 0.01624883],\n",
       "        [-0.05095201],\n",
       "        [-0.13947722],\n",
       "        [ 0.08714968],\n",
       "        [ 0.10451808],\n",
       "        [ 0.02347747],\n",
       "        [-0.46301416],\n",
       "        [-0.01334358],\n",
       "        [ 0.14208153],\n",
       "        [-0.10049993],\n",
       "        [ 0.06014989],\n",
       "        [-0.06065585],\n",
       "        [-0.04317677],\n",
       "        [ 0.08503076],\n",
       "        [ 0.11634731],\n",
       "        [ 0.0097743 ],\n",
       "        [ 0.19323103],\n",
       "        [ 0.01205646],\n",
       "        [-0.21523881],\n",
       "        [-0.01403357],\n",
       "        [ 0.17698522],\n",
       "        [ 0.00699537],\n",
       "        [ 0.06230593],\n",
       "        [ 0.01804879],\n",
       "        [-0.2949423 ],\n",
       "        [ 0.33907345],\n",
       "        [ 0.10886825],\n",
       "        [ 0.1625557 ],\n",
       "        [-0.2055326 ],\n",
       "        [ 0.16412832],\n",
       "        [ 0.2160602 ],\n",
       "        [ 0.13656497],\n",
       "        [ 0.41521832],\n",
       "        [-0.10241406],\n",
       "        [-0.02454284],\n",
       "        [ 0.5484638 ],\n",
       "        [ 0.02374075],\n",
       "        [ 0.30294463],\n",
       "        [ 0.45112595],\n",
       "        [ 0.15160891],\n",
       "        [ 0.13906297],\n",
       "        [-0.17024198],\n",
       "        [ 0.20675293],\n",
       "        [ 0.02800293],\n",
       "        [ 0.06772542],\n",
       "        [ 0.26196963],\n",
       "        [-0.1078233 ],\n",
       "        [-0.17447196],\n",
       "        [-0.09928843],\n",
       "        [-0.06310319],\n",
       "        [-0.104297  ],\n",
       "        [-0.27336916],\n",
       "        [ 0.11523439],\n",
       "        [ 0.20493819],\n",
       "        [ 0.22601497],\n",
       "        [ 0.04145056],\n",
       "        [-0.24348721],\n",
       "        [ 0.05623326],\n",
       "        [ 0.5390596 ],\n",
       "        [ 0.17669576],\n",
       "        [ 0.0631604 ],\n",
       "        [ 0.07825011],\n",
       "        [-0.01908459],\n",
       "        [ 0.21846987],\n",
       "        [-0.01440332],\n",
       "        [ 0.15973507],\n",
       "        [-0.28097713],\n",
       "        [-0.81072414],\n",
       "        [ 0.01596867],\n",
       "        [ 0.19687197],\n",
       "        [ 0.08249252],\n",
       "        [ 0.2470046 ],\n",
       "        [-0.00788215],\n",
       "        [ 0.23890425],\n",
       "        [ 0.13892896],\n",
       "        [ 0.14011078],\n",
       "        [-0.09800426],\n",
       "        [-0.11034277],\n",
       "        [ 0.03415295],\n",
       "        [ 0.09257179],\n",
       "        [ 0.23150632],\n",
       "        [-0.25138116],\n",
       "        [ 0.00885526],\n",
       "        [ 0.2208923 ],\n",
       "        [-0.09727341],\n",
       "        [ 0.09770174],\n",
       "        [ 0.10829236],\n",
       "        [ 0.44574147],\n",
       "        [ 0.11574896],\n",
       "        [ 0.8719167 ],\n",
       "        [ 0.04028958],\n",
       "        [ 0.05295124],\n",
       "        [ 0.11816131],\n",
       "        [ 0.00316515],\n",
       "        [ 0.13002542],\n",
       "        [ 0.1329182 ],\n",
       "        [-0.13671629],\n",
       "        [-0.22619568],\n",
       "        [-0.43983755],\n",
       "        [-0.18278497],\n",
       "        [-0.05595718],\n",
       "        [ 0.12761194],\n",
       "        [ 0.05357826],\n",
       "        [ 0.10064219],\n",
       "        [ 0.00209424],\n",
       "        [-0.14667217],\n",
       "        [ 0.04720407],\n",
       "        [ 0.13416336],\n",
       "        [ 0.13169305],\n",
       "        [ 0.4449159 ],\n",
       "        [ 0.05075615],\n",
       "        [-0.45108914],\n",
       "        [ 0.15669014],\n",
       "        [-0.15533681],\n",
       "        [ 0.25018904],\n",
       "        [ 0.2821917 ],\n",
       "        [-0.09056032],\n",
       "        [-0.05731476],\n",
       "        [-0.07515527],\n",
       "        [-0.5092158 ],\n",
       "        [-0.11391947]], dtype=float32),\n",
       " array([0.91812116], dtype=float32)]"
      ]
     },
     "execution_count": 4,
     "metadata": {},
     "output_type": "execute_result"
    }
   ],
   "source": [
    "model.get_weights()"
   ]
  },
  {
   "cell_type": "code",
   "execution_count": 5,
   "metadata": {},
   "outputs": [],
   "source": [
    "# Step 2: Helper Functions\n",
    "# Function to decode reviews\n",
    "def decode_review(encoded_review):\n",
    "    return ' '.join([reverse_word_index.get(i - 3, '?') for i in encoded_review])\n",
    "\n",
    "# Function to preprocess user input\n",
    "def preprocess_text(text):\n",
    "    words = text.lower().split()\n",
    "    encoded_review = [word_index.get(word, 2) + 3 for word in words]\n",
    "    padded_review = sequence.pad_sequences([encoded_review], maxlen=500)\n",
    "    return padded_review"
   ]
  },
  {
   "cell_type": "code",
   "execution_count": 6,
   "metadata": {},
   "outputs": [],
   "source": [
    "### Prediction  function\n",
    "\n",
    "def predict_sentiment(review):\n",
    "    preprocessed_input=preprocess_text(review)\n",
    "\n",
    "    prediction=model.predict(preprocessed_input)\n",
    "\n",
    "    sentiment = 'Positive' if prediction[0][0] > 0.5 else 'Negative'\n",
    "    \n",
    "    return sentiment, prediction[0][0]\n"
   ]
  },
  {
   "cell_type": "code",
   "execution_count": 7,
   "metadata": {},
   "outputs": [
    {
     "name": "stdout",
     "output_type": "stream",
     "text": [
      "\u001b[1m1/1\u001b[0m \u001b[32m━━━━━━━━━━━━━━━━━━━━\u001b[0m\u001b[37m\u001b[0m \u001b[1m0s\u001b[0m 229ms/step\n",
      "Review: This movie was fantastic! The acting was great and the plot was thrilling.\n",
      "Sentiment: Positive\n",
      "Prediction Score: 0.8863809108734131\n"
     ]
    }
   ],
   "source": [
    "# Step 4: User Input and Prediction\n",
    "# Example review for prediction\n",
    "example_review = \"This movie was fantastic! The acting was great and the plot was thrilling.\"\n",
    "\n",
    "sentiment,score=predict_sentiment(example_review)\n",
    "\n",
    "print(f'Review: {example_review}')\n",
    "print(f'Sentiment: {sentiment}')\n",
    "print(f'Prediction Score: {score}')"
   ]
  }
 ],
 "metadata": {
  "kernelspec": {
   "display_name": "Python 3",
   "language": "python",
   "name": "python3"
  },
  "language_info": {
   "codemirror_mode": {
    "name": "ipython",
    "version": 3
   },
   "file_extension": ".py",
   "mimetype": "text/x-python",
   "name": "python",
   "nbconvert_exporter": "python",
   "pygments_lexer": "ipython3",
   "version": "3.12.4"
  }
 },
 "nbformat": 4,
 "nbformat_minor": 2
}
