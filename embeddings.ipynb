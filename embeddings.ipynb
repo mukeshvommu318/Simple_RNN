{
 "cells": [
  {
   "cell_type": "code",
   "execution_count": 1,
   "metadata": {},
   "outputs": [],
   "source": [
    "from tensorflow.keras.preprocessing.text import one_hot"
   ]
  },
  {
   "cell_type": "code",
   "execution_count": 2,
   "metadata": {},
   "outputs": [],
   "source": [
    "### sentences\n",
    "sent=[  'the glass of milk',\n",
    "     'the glass of juice',\n",
    "     'the cup of tea',\n",
    "    'I am a good boy',\n",
    "     'I am a good developer',\n",
    "     'understand the meaning of words',\n",
    "     'your videos are good',]"
   ]
  },
  {
   "cell_type": "code",
   "execution_count": 3,
   "metadata": {},
   "outputs": [],
   "source": [
    "## Define the vocabulary size\n",
    "voc_size=10000"
   ]
  },
  {
   "cell_type": "code",
   "execution_count": 4,
   "metadata": {},
   "outputs": [
    {
     "data": {
      "text/plain": [
       "[[4536, 8399, 5774, 7457],\n",
       " [4536, 8399, 5774, 3877],\n",
       " [4536, 3342, 5774, 7524],\n",
       " [1154, 5044, 8583, 1322, 7388],\n",
       " [1154, 5044, 8583, 1322, 3459],\n",
       " [4083, 4536, 1979, 5774, 1397],\n",
       " [844, 8735, 1, 1322]]"
      ]
     },
     "execution_count": 4,
     "metadata": {},
     "output_type": "execute_result"
    }
   ],
   "source": [
    "### One Hot Representation\n",
    "one_hot_repr=[one_hot(words,voc_size)for words in sent]\n",
    "one_hot_repr"
   ]
  },
  {
   "cell_type": "code",
   "execution_count": 5,
   "metadata": {},
   "outputs": [],
   "source": [
    "## word Embedding Representation\n",
    "\n",
    "from tensorflow.keras.layers import Embedding\n",
    "#from tensorflow.keras.processing.sequence import pad_sequences\n",
    "from tensorflow.keras.utils import pad_sequences\n",
    "from tensorflow.keras.models import Sequential"
   ]
  },
  {
   "cell_type": "code",
   "execution_count": 6,
   "metadata": {},
   "outputs": [],
   "source": [
    "import numpy as np"
   ]
  },
  {
   "cell_type": "code",
   "execution_count": 7,
   "metadata": {},
   "outputs": [
    {
     "name": "stdout",
     "output_type": "stream",
     "text": [
      "[[   0    0    0    0 4536 8399 5774 7457]\n",
      " [   0    0    0    0 4536 8399 5774 3877]\n",
      " [   0    0    0    0 4536 3342 5774 7524]\n",
      " [   0    0    0 1154 5044 8583 1322 7388]\n",
      " [   0    0    0 1154 5044 8583 1322 3459]\n",
      " [   0    0    0 4083 4536 1979 5774 1397]\n",
      " [   0    0    0    0  844 8735    1 1322]]\n"
     ]
    }
   ],
   "source": [
    "sent_length=8\n",
    "embedded_docs=pad_sequences(one_hot_repr,padding='pre',maxlen=sent_length)\n",
    "print(embedded_docs)"
   ]
  },
  {
   "cell_type": "code",
   "execution_count": 8,
   "metadata": {},
   "outputs": [],
   "source": [
    "## feature representation\n",
    "dim=10"
   ]
  },
  {
   "cell_type": "code",
   "execution_count": 17,
   "metadata": {},
   "outputs": [],
   "source": [
    "#model=Sequential()\n",
    "#model.add(Embedding(voc_size,dim,input_length=sent_length))\n",
    "#model.compile('adam','mse')"
   ]
  },
  {
   "cell_type": "code",
   "execution_count": 19,
   "metadata": {},
   "outputs": [
    {
     "name": "stderr",
     "output_type": "stream",
     "text": [
      "C:\\Users\\venka\\AppData\\Roaming\\Python\\Python312\\site-packages\\keras\\src\\layers\\core\\embedding.py:93: UserWarning: Do not pass an `input_shape`/`input_dim` argument to a layer. When using Sequential models, prefer using an `Input(shape)` object as the first layer in the model instead.\n",
      "  super().__init__(**kwargs)\n"
     ]
    }
   ],
   "source": [
    "model = Sequential()\n",
    "model.add(Embedding(voc_size, dim, input_shape=(sent_length,)))  # Use input_shape instead\n",
    "model.compile(optimizer='adam', loss='mse')"
   ]
  },
  {
   "cell_type": "code",
   "execution_count": 20,
   "metadata": {},
   "outputs": [
    {
     "data": {
      "text/html": [
       "<pre style=\"white-space:pre;overflow-x:auto;line-height:normal;font-family:Menlo,'DejaVu Sans Mono',consolas,'Courier New',monospace\"><span style=\"font-weight: bold\">Model: \"sequential_5\"</span>\n",
       "</pre>\n"
      ],
      "text/plain": [
       "\u001b[1mModel: \"sequential_5\"\u001b[0m\n"
      ]
     },
     "metadata": {},
     "output_type": "display_data"
    },
    {
     "data": {
      "text/html": [
       "<pre style=\"white-space:pre;overflow-x:auto;line-height:normal;font-family:Menlo,'DejaVu Sans Mono',consolas,'Courier New',monospace\">┏━━━━━━━━━━━━━━━━━━━━━━━━━━━━━━━━━┳━━━━━━━━━━━━━━━━━━━━━━━━┳━━━━━━━━━━━━━━━┓\n",
       "┃<span style=\"font-weight: bold\"> Layer (type)                    </span>┃<span style=\"font-weight: bold\"> Output Shape           </span>┃<span style=\"font-weight: bold\">       Param # </span>┃\n",
       "┡━━━━━━━━━━━━━━━━━━━━━━━━━━━━━━━━━╇━━━━━━━━━━━━━━━━━━━━━━━━╇━━━━━━━━━━━━━━━┩\n",
       "│ embedding_5 (<span style=\"color: #0087ff; text-decoration-color: #0087ff\">Embedding</span>)         │ (<span style=\"color: #00d7ff; text-decoration-color: #00d7ff\">None</span>, <span style=\"color: #00af00; text-decoration-color: #00af00\">8</span>, <span style=\"color: #00af00; text-decoration-color: #00af00\">10</span>)          │       <span style=\"color: #00af00; text-decoration-color: #00af00\">100,000</span> │\n",
       "└─────────────────────────────────┴────────────────────────┴───────────────┘\n",
       "</pre>\n"
      ],
      "text/plain": [
       "┏━━━━━━━━━━━━━━━━━━━━━━━━━━━━━━━━━┳━━━━━━━━━━━━━━━━━━━━━━━━┳━━━━━━━━━━━━━━━┓\n",
       "┃\u001b[1m \u001b[0m\u001b[1mLayer (type)                   \u001b[0m\u001b[1m \u001b[0m┃\u001b[1m \u001b[0m\u001b[1mOutput Shape          \u001b[0m\u001b[1m \u001b[0m┃\u001b[1m \u001b[0m\u001b[1m      Param #\u001b[0m\u001b[1m \u001b[0m┃\n",
       "┡━━━━━━━━━━━━━━━━━━━━━━━━━━━━━━━━━╇━━━━━━━━━━━━━━━━━━━━━━━━╇━━━━━━━━━━━━━━━┩\n",
       "│ embedding_5 (\u001b[38;5;33mEmbedding\u001b[0m)         │ (\u001b[38;5;45mNone\u001b[0m, \u001b[38;5;34m8\u001b[0m, \u001b[38;5;34m10\u001b[0m)          │       \u001b[38;5;34m100,000\u001b[0m │\n",
       "└─────────────────────────────────┴────────────────────────┴───────────────┘\n"
      ]
     },
     "metadata": {},
     "output_type": "display_data"
    },
    {
     "data": {
      "text/html": [
       "<pre style=\"white-space:pre;overflow-x:auto;line-height:normal;font-family:Menlo,'DejaVu Sans Mono',consolas,'Courier New',monospace\"><span style=\"font-weight: bold\"> Total params: </span><span style=\"color: #00af00; text-decoration-color: #00af00\">100,000</span> (390.62 KB)\n",
       "</pre>\n"
      ],
      "text/plain": [
       "\u001b[1m Total params: \u001b[0m\u001b[38;5;34m100,000\u001b[0m (390.62 KB)\n"
      ]
     },
     "metadata": {},
     "output_type": "display_data"
    },
    {
     "data": {
      "text/html": [
       "<pre style=\"white-space:pre;overflow-x:auto;line-height:normal;font-family:Menlo,'DejaVu Sans Mono',consolas,'Courier New',monospace\"><span style=\"font-weight: bold\"> Trainable params: </span><span style=\"color: #00af00; text-decoration-color: #00af00\">100,000</span> (390.62 KB)\n",
       "</pre>\n"
      ],
      "text/plain": [
       "\u001b[1m Trainable params: \u001b[0m\u001b[38;5;34m100,000\u001b[0m (390.62 KB)\n"
      ]
     },
     "metadata": {},
     "output_type": "display_data"
    },
    {
     "data": {
      "text/html": [
       "<pre style=\"white-space:pre;overflow-x:auto;line-height:normal;font-family:Menlo,'DejaVu Sans Mono',consolas,'Courier New',monospace\"><span style=\"font-weight: bold\"> Non-trainable params: </span><span style=\"color: #00af00; text-decoration-color: #00af00\">0</span> (0.00 B)\n",
       "</pre>\n"
      ],
      "text/plain": [
       "\u001b[1m Non-trainable params: \u001b[0m\u001b[38;5;34m0\u001b[0m (0.00 B)\n"
      ]
     },
     "metadata": {},
     "output_type": "display_data"
    }
   ],
   "source": [
    "model.summary()"
   ]
  },
  {
   "cell_type": "code",
   "execution_count": 21,
   "metadata": {},
   "outputs": [
    {
     "name": "stdout",
     "output_type": "stream",
     "text": [
      "\u001b[1m1/1\u001b[0m \u001b[32m━━━━━━━━━━━━━━━━━━━━\u001b[0m\u001b[37m\u001b[0m \u001b[1m0s\u001b[0m 187ms/step\n"
     ]
    },
    {
     "data": {
      "text/plain": [
       "array([[[ 1.6321432e-02,  3.3157650e-02, -2.2686347e-03, -1.0180533e-02,\n",
       "          2.8793741e-02,  7.8101754e-03,  3.5039376e-02, -1.5160762e-02,\n",
       "         -3.9119910e-02, -2.2843122e-02],\n",
       "        [ 1.6321432e-02,  3.3157650e-02, -2.2686347e-03, -1.0180533e-02,\n",
       "          2.8793741e-02,  7.8101754e-03,  3.5039376e-02, -1.5160762e-02,\n",
       "         -3.9119910e-02, -2.2843122e-02],\n",
       "        [ 1.6321432e-02,  3.3157650e-02, -2.2686347e-03, -1.0180533e-02,\n",
       "          2.8793741e-02,  7.8101754e-03,  3.5039376e-02, -1.5160762e-02,\n",
       "         -3.9119910e-02, -2.2843122e-02],\n",
       "        [ 1.6321432e-02,  3.3157650e-02, -2.2686347e-03, -1.0180533e-02,\n",
       "          2.8793741e-02,  7.8101754e-03,  3.5039376e-02, -1.5160762e-02,\n",
       "         -3.9119910e-02, -2.2843122e-02],\n",
       "        [ 4.5277085e-02,  7.3617473e-03, -2.1603299e-02,  4.4799481e-02,\n",
       "         -1.9644786e-02,  9.7718351e-03,  1.5906464e-02,  3.8135536e-03,\n",
       "          2.6694622e-02, -7.1599968e-03],\n",
       "        [-3.9324164e-02, -4.3597758e-02, -1.5536703e-02, -4.8721660e-02,\n",
       "         -1.9835496e-02, -2.3608375e-02,  2.5008384e-02,  4.9251880e-02,\n",
       "         -4.5760646e-03, -1.1545904e-03],\n",
       "        [ 1.4405217e-02,  1.4167618e-02,  3.6260102e-02, -3.9764866e-03,\n",
       "          1.6330156e-02,  1.9869581e-03, -1.5571974e-02, -4.5096662e-02,\n",
       "          1.3782050e-02,  1.6673829e-02],\n",
       "        [ 1.8945161e-02,  4.4391360e-02, -1.8282700e-02, -4.3979358e-02,\n",
       "         -4.1689992e-02,  1.0228861e-02,  2.4037138e-03, -4.8408031e-02,\n",
       "          4.2178545e-02,  4.5607239e-04]],\n",
       "\n",
       "       [[ 1.6321432e-02,  3.3157650e-02, -2.2686347e-03, -1.0180533e-02,\n",
       "          2.8793741e-02,  7.8101754e-03,  3.5039376e-02, -1.5160762e-02,\n",
       "         -3.9119910e-02, -2.2843122e-02],\n",
       "        [ 1.6321432e-02,  3.3157650e-02, -2.2686347e-03, -1.0180533e-02,\n",
       "          2.8793741e-02,  7.8101754e-03,  3.5039376e-02, -1.5160762e-02,\n",
       "         -3.9119910e-02, -2.2843122e-02],\n",
       "        [ 1.6321432e-02,  3.3157650e-02, -2.2686347e-03, -1.0180533e-02,\n",
       "          2.8793741e-02,  7.8101754e-03,  3.5039376e-02, -1.5160762e-02,\n",
       "         -3.9119910e-02, -2.2843122e-02],\n",
       "        [ 1.6321432e-02,  3.3157650e-02, -2.2686347e-03, -1.0180533e-02,\n",
       "          2.8793741e-02,  7.8101754e-03,  3.5039376e-02, -1.5160762e-02,\n",
       "         -3.9119910e-02, -2.2843122e-02],\n",
       "        [ 4.5277085e-02,  7.3617473e-03, -2.1603299e-02,  4.4799481e-02,\n",
       "         -1.9644786e-02,  9.7718351e-03,  1.5906464e-02,  3.8135536e-03,\n",
       "          2.6694622e-02, -7.1599968e-03],\n",
       "        [-3.9324164e-02, -4.3597758e-02, -1.5536703e-02, -4.8721660e-02,\n",
       "         -1.9835496e-02, -2.3608375e-02,  2.5008384e-02,  4.9251880e-02,\n",
       "         -4.5760646e-03, -1.1545904e-03],\n",
       "        [ 1.4405217e-02,  1.4167618e-02,  3.6260102e-02, -3.9764866e-03,\n",
       "          1.6330156e-02,  1.9869581e-03, -1.5571974e-02, -4.5096662e-02,\n",
       "          1.3782050e-02,  1.6673829e-02],\n",
       "        [-6.5791383e-03,  3.6735144e-02,  9.8215342e-03, -3.8153328e-02,\n",
       "          4.0062953e-02,  1.0718513e-02, -1.1847746e-02,  5.3668506e-03,\n",
       "          3.6239598e-02, -3.7784994e-02]],\n",
       "\n",
       "       [[ 1.6321432e-02,  3.3157650e-02, -2.2686347e-03, -1.0180533e-02,\n",
       "          2.8793741e-02,  7.8101754e-03,  3.5039376e-02, -1.5160762e-02,\n",
       "         -3.9119910e-02, -2.2843122e-02],\n",
       "        [ 1.6321432e-02,  3.3157650e-02, -2.2686347e-03, -1.0180533e-02,\n",
       "          2.8793741e-02,  7.8101754e-03,  3.5039376e-02, -1.5160762e-02,\n",
       "         -3.9119910e-02, -2.2843122e-02],\n",
       "        [ 1.6321432e-02,  3.3157650e-02, -2.2686347e-03, -1.0180533e-02,\n",
       "          2.8793741e-02,  7.8101754e-03,  3.5039376e-02, -1.5160762e-02,\n",
       "         -3.9119910e-02, -2.2843122e-02],\n",
       "        [ 1.6321432e-02,  3.3157650e-02, -2.2686347e-03, -1.0180533e-02,\n",
       "          2.8793741e-02,  7.8101754e-03,  3.5039376e-02, -1.5160762e-02,\n",
       "         -3.9119910e-02, -2.2843122e-02],\n",
       "        [ 4.5277085e-02,  7.3617473e-03, -2.1603299e-02,  4.4799481e-02,\n",
       "         -1.9644786e-02,  9.7718351e-03,  1.5906464e-02,  3.8135536e-03,\n",
       "          2.6694622e-02, -7.1599968e-03],\n",
       "        [ 3.0090760e-02, -3.0069007e-02, -3.8932871e-02, -4.3036640e-02,\n",
       "         -8.3248988e-03, -3.8670205e-02, -2.4728550e-02,  8.9572296e-03,\n",
       "          4.6783518e-02,  3.0879471e-02],\n",
       "        [ 1.4405217e-02,  1.4167618e-02,  3.6260102e-02, -3.9764866e-03,\n",
       "          1.6330156e-02,  1.9869581e-03, -1.5571974e-02, -4.5096662e-02,\n",
       "          1.3782050e-02,  1.6673829e-02],\n",
       "        [ 4.2379331e-02,  2.8950345e-02, -1.4786184e-02, -3.2141246e-02,\n",
       "          2.8165545e-02, -3.4794927e-02,  2.5730733e-02,  8.1554651e-03,\n",
       "          3.3777665e-02, -9.7933188e-03]],\n",
       "\n",
       "       [[ 1.6321432e-02,  3.3157650e-02, -2.2686347e-03, -1.0180533e-02,\n",
       "          2.8793741e-02,  7.8101754e-03,  3.5039376e-02, -1.5160762e-02,\n",
       "         -3.9119910e-02, -2.2843122e-02],\n",
       "        [ 1.6321432e-02,  3.3157650e-02, -2.2686347e-03, -1.0180533e-02,\n",
       "          2.8793741e-02,  7.8101754e-03,  3.5039376e-02, -1.5160762e-02,\n",
       "         -3.9119910e-02, -2.2843122e-02],\n",
       "        [ 1.6321432e-02,  3.3157650e-02, -2.2686347e-03, -1.0180533e-02,\n",
       "          2.8793741e-02,  7.8101754e-03,  3.5039376e-02, -1.5160762e-02,\n",
       "         -3.9119910e-02, -2.2843122e-02],\n",
       "        [ 4.4382978e-02, -2.4104977e-02,  9.2279427e-03,  4.6968225e-02,\n",
       "          9.9425092e-03, -4.5680296e-02,  3.3958666e-03,  1.8671181e-02,\n",
       "         -2.6175154e-02, -1.9343054e-02],\n",
       "        [ 1.2646209e-02, -4.0303625e-02, -6.2515028e-03, -4.7811210e-02,\n",
       "         -1.9625211e-02,  4.0129591e-02,  3.7552942e-02, -3.2870509e-02,\n",
       "         -1.4726270e-02, -4.6889890e-02],\n",
       "        [-3.1377867e-02,  3.2860544e-02,  2.4059508e-02, -3.5040189e-02,\n",
       "         -3.1343818e-02,  1.5911806e-02, -2.3007536e-02, -2.2772146e-02,\n",
       "         -2.6967978e-02,  2.5796179e-02],\n",
       "        [-4.7542658e-02,  2.3851786e-02,  7.8728423e-03,  4.5902494e-02,\n",
       "         -5.5885538e-03, -3.1344183e-03, -4.0093768e-02, -4.9179602e-02,\n",
       "          3.0566443e-02,  8.1527978e-05],\n",
       "        [-4.3417167e-02, -3.3859599e-02, -7.1491823e-03, -9.2432499e-03,\n",
       "         -1.9527340e-02,  3.5869841e-02,  3.6283877e-02, -4.8933305e-02,\n",
       "          3.4024622e-02, -4.6645880e-02]],\n",
       "\n",
       "       [[ 1.6321432e-02,  3.3157650e-02, -2.2686347e-03, -1.0180533e-02,\n",
       "          2.8793741e-02,  7.8101754e-03,  3.5039376e-02, -1.5160762e-02,\n",
       "         -3.9119910e-02, -2.2843122e-02],\n",
       "        [ 1.6321432e-02,  3.3157650e-02, -2.2686347e-03, -1.0180533e-02,\n",
       "          2.8793741e-02,  7.8101754e-03,  3.5039376e-02, -1.5160762e-02,\n",
       "         -3.9119910e-02, -2.2843122e-02],\n",
       "        [ 1.6321432e-02,  3.3157650e-02, -2.2686347e-03, -1.0180533e-02,\n",
       "          2.8793741e-02,  7.8101754e-03,  3.5039376e-02, -1.5160762e-02,\n",
       "         -3.9119910e-02, -2.2843122e-02],\n",
       "        [ 4.4382978e-02, -2.4104977e-02,  9.2279427e-03,  4.6968225e-02,\n",
       "          9.9425092e-03, -4.5680296e-02,  3.3958666e-03,  1.8671181e-02,\n",
       "         -2.6175154e-02, -1.9343054e-02],\n",
       "        [ 1.2646209e-02, -4.0303625e-02, -6.2515028e-03, -4.7811210e-02,\n",
       "         -1.9625211e-02,  4.0129591e-02,  3.7552942e-02, -3.2870509e-02,\n",
       "         -1.4726270e-02, -4.6889890e-02],\n",
       "        [-3.1377867e-02,  3.2860544e-02,  2.4059508e-02, -3.5040189e-02,\n",
       "         -3.1343818e-02,  1.5911806e-02, -2.3007536e-02, -2.2772146e-02,\n",
       "         -2.6967978e-02,  2.5796179e-02],\n",
       "        [-4.7542658e-02,  2.3851786e-02,  7.8728423e-03,  4.5902494e-02,\n",
       "         -5.5885538e-03, -3.1344183e-03, -4.0093768e-02, -4.9179602e-02,\n",
       "          3.0566443e-02,  8.1527978e-05],\n",
       "        [-1.6676076e-03,  4.1671041e-02,  1.6942732e-03, -2.2063816e-02,\n",
       "          4.2869974e-02, -4.0722679e-02, -4.6607446e-02, -4.3268289e-02,\n",
       "          4.5621444e-02,  1.0004699e-02]],\n",
       "\n",
       "       [[ 1.6321432e-02,  3.3157650e-02, -2.2686347e-03, -1.0180533e-02,\n",
       "          2.8793741e-02,  7.8101754e-03,  3.5039376e-02, -1.5160762e-02,\n",
       "         -3.9119910e-02, -2.2843122e-02],\n",
       "        [ 1.6321432e-02,  3.3157650e-02, -2.2686347e-03, -1.0180533e-02,\n",
       "          2.8793741e-02,  7.8101754e-03,  3.5039376e-02, -1.5160762e-02,\n",
       "         -3.9119910e-02, -2.2843122e-02],\n",
       "        [ 1.6321432e-02,  3.3157650e-02, -2.2686347e-03, -1.0180533e-02,\n",
       "          2.8793741e-02,  7.8101754e-03,  3.5039376e-02, -1.5160762e-02,\n",
       "         -3.9119910e-02, -2.2843122e-02],\n",
       "        [ 3.1996321e-02, -5.9718601e-03, -2.6492715e-02, -1.6641118e-02,\n",
       "          4.5152690e-02,  9.1529116e-03,  4.5659456e-02,  2.0094860e-02,\n",
       "         -3.4195684e-02, -4.3554761e-02],\n",
       "        [ 4.5277085e-02,  7.3617473e-03, -2.1603299e-02,  4.4799481e-02,\n",
       "         -1.9644786e-02,  9.7718351e-03,  1.5906464e-02,  3.8135536e-03,\n",
       "          2.6694622e-02, -7.1599968e-03],\n",
       "        [-2.9569412e-02,  3.8308036e-02, -8.5718930e-06, -4.6363592e-02,\n",
       "         -1.7986454e-02,  2.3117457e-02,  3.4173731e-02,  3.1888593e-02,\n",
       "          5.0333031e-03, -1.4644135e-02],\n",
       "        [ 1.4405217e-02,  1.4167618e-02,  3.6260102e-02, -3.9764866e-03,\n",
       "          1.6330156e-02,  1.9869581e-03, -1.5571974e-02, -4.5096662e-02,\n",
       "          1.3782050e-02,  1.6673829e-02],\n",
       "        [ 4.2099465e-02,  1.8490020e-02, -3.5594843e-02, -1.9516721e-03,\n",
       "          2.5501121e-02, -8.3061457e-03,  1.6535852e-02,  1.4337707e-02,\n",
       "          4.0804278e-02,  2.8622534e-02]],\n",
       "\n",
       "       [[ 1.6321432e-02,  3.3157650e-02, -2.2686347e-03, -1.0180533e-02,\n",
       "          2.8793741e-02,  7.8101754e-03,  3.5039376e-02, -1.5160762e-02,\n",
       "         -3.9119910e-02, -2.2843122e-02],\n",
       "        [ 1.6321432e-02,  3.3157650e-02, -2.2686347e-03, -1.0180533e-02,\n",
       "          2.8793741e-02,  7.8101754e-03,  3.5039376e-02, -1.5160762e-02,\n",
       "         -3.9119910e-02, -2.2843122e-02],\n",
       "        [ 1.6321432e-02,  3.3157650e-02, -2.2686347e-03, -1.0180533e-02,\n",
       "          2.8793741e-02,  7.8101754e-03,  3.5039376e-02, -1.5160762e-02,\n",
       "         -3.9119910e-02, -2.2843122e-02],\n",
       "        [ 1.6321432e-02,  3.3157650e-02, -2.2686347e-03, -1.0180533e-02,\n",
       "          2.8793741e-02,  7.8101754e-03,  3.5039376e-02, -1.5160762e-02,\n",
       "         -3.9119910e-02, -2.2843122e-02],\n",
       "        [-6.9888942e-03,  1.0495890e-02,  2.7060140e-02,  4.4628870e-02,\n",
       "         -1.9617189e-02,  8.7749846e-03,  1.7308149e-02, -4.2960454e-02,\n",
       "         -5.7435744e-03,  4.5511935e-02],\n",
       "        [-3.4119740e-02, -4.4558156e-02,  4.2078290e-02, -1.9244671e-02,\n",
       "         -2.4239887e-02,  6.4240471e-03, -2.6423980e-02,  1.4151361e-02,\n",
       "          5.5256002e-03,  1.8002298e-02],\n",
       "        [ 1.4994826e-02, -3.9772343e-02,  2.1504786e-02,  6.4040348e-04,\n",
       "         -4.9938928e-02,  4.1968003e-03, -4.2154528e-02, -2.0272052e-02,\n",
       "          1.8726811e-03,  8.3410963e-03],\n",
       "        [-4.7542658e-02,  2.3851786e-02,  7.8728423e-03,  4.5902494e-02,\n",
       "         -5.5885538e-03, -3.1344183e-03, -4.0093768e-02, -4.9179602e-02,\n",
       "          3.0566443e-02,  8.1527978e-05]]], dtype=float32)"
      ]
     },
     "execution_count": 21,
     "metadata": {},
     "output_type": "execute_result"
    }
   ],
   "source": [
    "model.predict(embedded_docs)"
   ]
  },
  {
   "cell_type": "code",
   "execution_count": 22,
   "metadata": {},
   "outputs": [
    {
     "data": {
      "text/plain": [
       "array([   0,    0,    0,    0, 4536, 8399, 5774, 7457])"
      ]
     },
     "execution_count": 22,
     "metadata": {},
     "output_type": "execute_result"
    }
   ],
   "source": [
    "embedded_docs[0]"
   ]
  },
  {
   "cell_type": "code",
   "execution_count": 24,
   "metadata": {},
   "outputs": [
    {
     "data": {
      "text/plain": [
       "(7, 8)"
      ]
     },
     "execution_count": 24,
     "metadata": {},
     "output_type": "execute_result"
    }
   ],
   "source": [
    "embedded_docs.shape"
   ]
  },
  {
   "cell_type": "code",
   "execution_count": 23,
   "metadata": {},
   "outputs": [
    {
     "ename": "ValueError",
     "evalue": "Exception encountered when calling Sequential.call().\n\n\u001b[1mCannot take the length of shape with unknown rank.\u001b[0m\n\nArguments received by Sequential.call():\n  • inputs=tf.Tensor(shape=<unknown>, dtype=int32)\n  • training=False\n  • mask=None",
     "output_type": "error",
     "traceback": [
      "\u001b[1;31m---------------------------------------------------------------------------\u001b[0m",
      "\u001b[1;31mValueError\u001b[0m                                Traceback (most recent call last)",
      "Cell \u001b[1;32mIn[23], line 1\u001b[0m\n\u001b[1;32m----> 1\u001b[0m \u001b[43mmodel\u001b[49m\u001b[38;5;241;43m.\u001b[39;49m\u001b[43mpredict\u001b[49m\u001b[43m(\u001b[49m\u001b[43membedded_docs\u001b[49m\u001b[43m[\u001b[49m\u001b[38;5;241;43m0\u001b[39;49m\u001b[43m]\u001b[49m\u001b[43m)\u001b[49m\n",
      "File \u001b[1;32m~\\AppData\\Roaming\\Python\\Python312\\site-packages\\keras\\src\\utils\\traceback_utils.py:122\u001b[0m, in \u001b[0;36mfilter_traceback.<locals>.error_handler\u001b[1;34m(*args, **kwargs)\u001b[0m\n\u001b[0;32m    119\u001b[0m     filtered_tb \u001b[38;5;241m=\u001b[39m _process_traceback_frames(e\u001b[38;5;241m.\u001b[39m__traceback__)\n\u001b[0;32m    120\u001b[0m     \u001b[38;5;66;03m# To get the full stack trace, call:\u001b[39;00m\n\u001b[0;32m    121\u001b[0m     \u001b[38;5;66;03m# `keras.config.disable_traceback_filtering()`\u001b[39;00m\n\u001b[1;32m--> 122\u001b[0m     \u001b[38;5;28;01mraise\u001b[39;00m e\u001b[38;5;241m.\u001b[39mwith_traceback(filtered_tb) \u001b[38;5;28;01mfrom\u001b[39;00m \u001b[38;5;28;01mNone\u001b[39;00m\n\u001b[0;32m    123\u001b[0m \u001b[38;5;28;01mfinally\u001b[39;00m:\n\u001b[0;32m    124\u001b[0m     \u001b[38;5;28;01mdel\u001b[39;00m filtered_tb\n",
      "File \u001b[1;32m~\\AppData\\Roaming\\Python\\Python312\\site-packages\\keras\\src\\utils\\traceback_utils.py:122\u001b[0m, in \u001b[0;36mfilter_traceback.<locals>.error_handler\u001b[1;34m(*args, **kwargs)\u001b[0m\n\u001b[0;32m    119\u001b[0m     filtered_tb \u001b[38;5;241m=\u001b[39m _process_traceback_frames(e\u001b[38;5;241m.\u001b[39m__traceback__)\n\u001b[0;32m    120\u001b[0m     \u001b[38;5;66;03m# To get the full stack trace, call:\u001b[39;00m\n\u001b[0;32m    121\u001b[0m     \u001b[38;5;66;03m# `keras.config.disable_traceback_filtering()`\u001b[39;00m\n\u001b[1;32m--> 122\u001b[0m     \u001b[38;5;28;01mraise\u001b[39;00m e\u001b[38;5;241m.\u001b[39mwith_traceback(filtered_tb) \u001b[38;5;28;01mfrom\u001b[39;00m \u001b[38;5;28;01mNone\u001b[39;00m\n\u001b[0;32m    123\u001b[0m \u001b[38;5;28;01mfinally\u001b[39;00m:\n\u001b[0;32m    124\u001b[0m     \u001b[38;5;28;01mdel\u001b[39;00m filtered_tb\n",
      "\u001b[1;31mValueError\u001b[0m: Exception encountered when calling Sequential.call().\n\n\u001b[1mCannot take the length of shape with unknown rank.\u001b[0m\n\nArguments received by Sequential.call():\n  • inputs=tf.Tensor(shape=<unknown>, dtype=int32)\n  • training=False\n  • mask=None"
     ]
    }
   ],
   "source": [
    "model.predict(embedded_docs[0])"
   ]
  }
 ],
 "metadata": {
  "kernelspec": {
   "display_name": "Python 3",
   "language": "python",
   "name": "python3"
  },
  "language_info": {
   "codemirror_mode": {
    "name": "ipython",
    "version": 3
   },
   "file_extension": ".py",
   "mimetype": "text/x-python",
   "name": "python",
   "nbconvert_exporter": "python",
   "pygments_lexer": "ipython3",
   "version": "3.12.4"
  }
 },
 "nbformat": 4,
 "nbformat_minor": 2
}
